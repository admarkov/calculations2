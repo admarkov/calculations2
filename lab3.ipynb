{
 "cells": [
  {
   "cell_type": "markdown",
   "metadata": {},
   "source": [
    "# 3. Решение частичной проблемы собственных значений"
   ]
  },
  {
   "cell_type": "code",
   "execution_count": 1,
   "metadata": {},
   "outputs": [],
   "source": [
    "import numpy as np"
   ]
  },
  {
   "cell_type": "code",
   "execution_count": 2,
   "metadata": {},
   "outputs": [],
   "source": [
    "A = [\n",
    "    [-1.53698, -0.19907, 0.95855],\n",
    "    [-0.19907, 1.17742, 0.06992],\n",
    "    [0.95855, 0.06992, -1.55151]\n",
    "]\n",
    "\n",
    "n = len(A)\n",
    "\n",
    "eps = 0.0001"
   ]
  },
  {
   "cell_type": "markdown",
   "metadata": {},
   "source": [
    "для проверки получим собственные числа и векторы через numpy"
   ]
  },
  {
   "cell_type": "code",
   "execution_count": 3,
   "metadata": {},
   "outputs": [
    {
     "data": {
      "text/plain": [
       "(array([-2.51260262, -0.59040918,  1.1919418 ]),\n",
       " -2.512602623442085,\n",
       " matrix([[-7.05231401e-01, -7.05234216e-01, -7.27555552e-02],\n",
       "         [-5.14445157e-02, -5.14473772e-02,  9.97349803e-01],\n",
       "         [ 7.07108289e-01, -7.07105273e-01, -1.87326809e-06]]))"
      ]
     },
     "execution_count": 3,
     "metadata": {},
     "output_type": "execute_result"
    }
   ],
   "source": [
    "spectre = np.linalg.eigvals(np.matrix(A))\n",
    "spectral_radix = max(spectre, key=abs)\n",
    "eigvecs = np.linalg.eig(np.matrix(A))[1]\n",
    "spectre, spectral_radix, eigvecs"
   ]
  },
  {
   "cell_type": "markdown",
   "metadata": {},
   "source": [
    "## Степенной метод"
   ]
  },
  {
   "cell_type": "code",
   "execution_count": 4,
   "metadata": {},
   "outputs": [],
   "source": [
    "maxeig = [0] * n\n",
    "prev_maxeig = [100] * n\n",
    "y = [1] * n\n",
    "cnt = 0\n",
    "while max([abs(maxeig[i] - prev_maxeig[i]) for i in range(n)]) > eps:\n",
    "    cnt += 1\n",
    "    prev_y, prev_maxeig = y, maxeig\n",
    "    y = np.matmul(A, y)\n",
    "    maxeig = [y[i] / prev_y[i] for i in range(n)]"
   ]
  },
  {
   "cell_type": "markdown",
   "metadata": {},
   "source": [
    "число итераций:"
   ]
  },
  {
   "cell_type": "code",
   "execution_count": 5,
   "metadata": {},
   "outputs": [
    {
     "data": {
      "text/plain": [
       "25"
      ]
     },
     "execution_count": 5,
     "metadata": {},
     "output_type": "execute_result"
    }
   ],
   "source": [
    "cnt"
   ]
  },
  {
   "cell_type": "markdown",
   "metadata": {},
   "source": [
    "максимальное по модулю собственное число:"
   ]
  },
  {
   "cell_type": "code",
   "execution_count": 6,
   "metadata": {},
   "outputs": [
    {
     "data": {
      "text/plain": [
       "-2.5126027437159197"
      ]
     },
     "execution_count": 6,
     "metadata": {},
     "output_type": "execute_result"
    }
   ],
   "source": [
    "maxeigvalue = maxeig[0]\n",
    "maxeigvalue"
   ]
  },
  {
   "cell_type": "markdown",
   "metadata": {},
   "source": [
    "соответствующий ему собственный вектор:"
   ]
  },
  {
   "cell_type": "code",
   "execution_count": 7,
   "metadata": {},
   "outputs": [
    {
     "data": {
      "text/plain": [
       "array([-0.70523141, -0.05144437,  0.70710829])"
      ]
     },
     "execution_count": 7,
     "metadata": {},
     "output_type": "execute_result"
    }
   ],
   "source": [
    "maxeigvec = y / np.linalg.norm(y)\n",
    "maxeigvec"
   ]
  },
  {
   "cell_type": "markdown",
   "metadata": {},
   "source": [
    "еще проверка:"
   ]
  },
  {
   "cell_type": "code",
   "execution_count": 8,
   "metadata": {},
   "outputs": [
    {
     "data": {
      "text/plain": [
       "([1.7719663815710365, 0.12925925708913777, -1.776682226726991],\n",
       " array([ 1.77196626,  0.1292598 , -1.77668214]))"
      ]
     },
     "execution_count": 8,
     "metadata": {},
     "output_type": "execute_result"
    }
   ],
   "source": [
    "a = [maxeigvalue * x for x in maxeigvec]\n",
    "b = np.matmul(A, maxeigvec)\n",
    "a, b"
   ]
  },
  {
   "cell_type": "markdown",
   "metadata": {},
   "source": [
    "## Метод скалярных произведений:"
   ]
  },
  {
   "cell_type": "code",
   "execution_count": 9,
   "metadata": {},
   "outputs": [],
   "source": [
    "y = [1] * n\n",
    "maxeig = 0\n",
    "prev_maxeig = 100\n",
    "cnt = 0\n",
    "while abs(maxeig - prev_maxeig) > eps:\n",
    "    cnt += 1\n",
    "    prev_y, prev_maxeig = y, maxeig\n",
    "    y = np.matmul(A, y)\n",
    "    maxeig = np.inner(prev_y, y) / np.inner(prev_y, prev_y)"
   ]
  },
  {
   "cell_type": "markdown",
   "metadata": {},
   "source": [
    "максимальное по модулю собственное число:"
   ]
  },
  {
   "cell_type": "code",
   "execution_count": 10,
   "metadata": {},
   "outputs": [
    {
     "data": {
      "text/plain": [
       "-2.512580877088742"
      ]
     },
     "execution_count": 10,
     "metadata": {},
     "output_type": "execute_result"
    }
   ],
   "source": [
    "maxeig"
   ]
  },
  {
   "cell_type": "code",
   "execution_count": 11,
   "metadata": {},
   "outputs": [
    {
     "data": {
      "text/plain": [
       "([1.7719663815710365, 0.12925925708913777, -1.776682226726991],\n",
       " array([ 1.77196626,  0.1292598 , -1.77668214]))"
      ]
     },
     "execution_count": 11,
     "metadata": {},
     "output_type": "execute_result"
    }
   ],
   "source": [
    "a = [maxeigvalue * x for x in maxeigvec]\n",
    "b = np.matmul(A, maxeigvec)\n",
    "a, b"
   ]
  },
  {
   "cell_type": "markdown",
   "metadata": {},
   "source": [
    "число итераций:"
   ]
  },
  {
   "cell_type": "code",
   "execution_count": 12,
   "metadata": {},
   "outputs": [
    {
     "data": {
      "text/plain": [
       "13"
      ]
     },
     "execution_count": 12,
     "metadata": {},
     "output_type": "execute_result"
    }
   ],
   "source": [
    "cnt"
   ]
  },
  {
   "cell_type": "markdown",
   "metadata": {},
   "source": [
    "собственный вектор аналогично"
   ]
  },
  {
   "cell_type": "code",
   "execution_count": 13,
   "metadata": {},
   "outputs": [
    {
     "data": {
      "text/plain": [
       "array([-0.7053147 , -0.05029817,  0.70710768])"
      ]
     },
     "execution_count": 13,
     "metadata": {},
     "output_type": "execute_result"
    }
   ],
   "source": [
    "maxeigvec = y / np.linalg.norm(y)\n",
    "maxeigvec"
   ]
  }
 ],
 "metadata": {
  "kernelspec": {
   "display_name": "Python 3",
   "language": "python",
   "name": "python3"
  },
  "language_info": {
   "codemirror_mode": {
    "name": "ipython",
    "version": 3
   },
   "file_extension": ".py",
   "mimetype": "text/x-python",
   "name": "python",
   "nbconvert_exporter": "python",
   "pygments_lexer": "ipython3",
   "version": "3.6.9"
  }
 },
 "nbformat": 4,
 "nbformat_minor": 4
}
