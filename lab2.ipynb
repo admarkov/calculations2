{
 "cells": [
  {
   "cell_type": "code",
   "execution_count": 1,
   "metadata": {},
   "outputs": [],
   "source": [
    "from copy import deepcopy as copy\n",
    "from numpy import linalg\n",
    "import numpy as np\n",
    "from math import sqrt\n",
    "from pandas import DataFrame as df\n",
    "from math import log"
   ]
  },
  {
   "cell_type": "code",
   "execution_count": 2,
   "metadata": {},
   "outputs": [],
   "source": [
    "def apply(a, v):\n",
    "    res = copy(v)\n",
    "    for i in range(len(a)):\n",
    "        res[i] = 0\n",
    "        for j in range(len(a)):\n",
    "            res[i] += a[i][j] * v[j]\n",
    "    return res\n",
    "\n",
    "def vsum(v1, v2):\n",
    "    res = copy(v1)\n",
    "    for i in range(len(v1)):\n",
    "        res[i] += v2[i]\n",
    "    return res\n",
    "\n",
    "def smul(x, v1):\n",
    "    return [x * y for y in v1]"
   ]
  },
  {
   "cell_type": "markdown",
   "metadata": {},
   "source": [
    "# 2.  Итерационные методы решения СЛАУ"
   ]
  },
  {
   "cell_type": "code",
   "execution_count": 3,
   "metadata": {},
   "outputs": [],
   "source": [
    "A = [[9.016024, 1.082197, -2.783575],\n",
    "     [1.082197, 6.846595, 0.647647],\n",
    "     [-2.783575, 0.647647, 5.432541]]\n",
    "\n",
    "B = [-1.340873, 4.179164, 5.478007]\n",
    "\n",
    "n = len(A)\n",
    "\n",
    "eps = 0.0001"
   ]
  },
  {
   "cell_type": "markdown",
   "metadata": {},
   "source": [
    "### Точное решение системы, полученное методом Гаусса"
   ]
  },
  {
   "cell_type": "code",
   "execution_count": 4,
   "metadata": {},
   "outputs": [],
   "source": [
    "x_gauss = [0.10000015652854335, 0.49999993775826096, 1.0000000876237503]"
   ]
  },
  {
   "cell_type": "markdown",
   "metadata": {},
   "source": [
    "### построим H и g"
   ]
  },
  {
   "cell_type": "code",
   "execution_count": 5,
   "metadata": {},
   "outputs": [],
   "source": [
    "H = [[0] * n for i in range(n)]\n",
    "for i in range(n):\n",
    "    for j in range(n):\n",
    "        if i != j:\n",
    "            H[i][j] = -A[i][j] / A[i][i]\n",
    "g = [0] * n\n",
    "for i in range(n):\n",
    "    g[i] = B[i] / A[i][i]"
   ]
  },
  {
   "cell_type": "code",
   "execution_count": 6,
   "metadata": {},
   "outputs": [
    {
     "data": {
      "text/plain": [
       "[[0, -0.12003040364577558, 0.30873642306187293],\n",
       " [-0.15806353377116655, 0, -0.09459402812638983],\n",
       " [0.5123891379742923, -0.11921621944500742, 0]]"
      ]
     },
     "execution_count": 6,
     "metadata": {},
     "output_type": "execute_result"
    }
   ],
   "source": [
    "H"
   ]
  },
  {
   "cell_type": "code",
   "execution_count": 7,
   "metadata": {},
   "outputs": [
    {
     "data": {
      "text/plain": [
       "[-0.14872109923398608, 0.6104003522919057, 1.0083691959250745]"
      ]
     },
     "execution_count": 7,
     "metadata": {},
     "output_type": "execute_result"
    }
   ],
   "source": [
    "g"
   ]
  },
  {
   "cell_type": "markdown",
   "metadata": {},
   "source": [
    "### Вычислим спектральный радиус"
   ]
  },
  {
   "cell_type": "code",
   "execution_count": 8,
   "metadata": {},
   "outputs": [
    {
     "data": {
      "text/plain": [
       "0.46218782245536616"
      ]
     },
     "execution_count": 8,
     "metadata": {},
     "output_type": "execute_result"
    }
   ],
   "source": [
    "spectral_radix = max([abs(x) for x in linalg.eig(H)[0]])\n",
    "spectral_radix"
   ]
  },
  {
   "cell_type": "markdown",
   "metadata": {},
   "source": [
    "### Функция для вычисления априорной оценки необходимого количества итераций"
   ]
  },
  {
   "cell_type": "code",
   "execution_count": 9,
   "metadata": {},
   "outputs": [],
   "source": [
    "# || v ||_inf \n",
    "def vnorm(v):\n",
    "    return max(v)\n",
    "\n",
    "# || A ||_inf\n",
    "def norm(A):\n",
    "    return max([sum(row) for row in A])\n",
    "\n",
    "def its_estimated(H, g, x0, eps):\n",
    "    return log(eps / (vnorm(x0) + vnorm(g) / (1 - norm(H)))) / log(norm(H))"
   ]
  },
  {
   "cell_type": "markdown",
   "metadata": {},
   "source": [
    "Вычислим норму H"
   ]
  },
  {
   "cell_type": "code",
   "execution_count": 10,
   "metadata": {},
   "outputs": [
    {
     "data": {
      "text/plain": [
       "0.3931729185292849"
      ]
     },
     "execution_count": 10,
     "metadata": {},
     "output_type": "execute_result"
    }
   ],
   "source": [
    "norm(H)"
   ]
  },
  {
   "cell_type": "markdown",
   "metadata": {},
   "source": [
    "Норма < 1, то есть удовлетворяет достаточному условию сходимости.\n",
    "Спектральный радиус также < 1, значит H соответствует необходимому и достаточному условию сходимости."
   ]
  },
  {
   "cell_type": "markdown",
   "metadata": {},
   "source": [
    "### Уточнение по Люстернику"
   ]
  },
  {
   "cell_type": "code",
   "execution_count": 11,
   "metadata": {},
   "outputs": [],
   "source": [
    "def lusternik(x_prev, x_last):\n",
    "    return vsum(x_prev, smul(1./(1 - spectral_radix), vsum(x_it, smul(-1, x_prev))))"
   ]
  },
  {
   "cell_type": "markdown",
   "metadata": {},
   "source": [
    "## Метод простой итерации"
   ]
  },
  {
   "cell_type": "markdown",
   "metadata": {},
   "source": [
    "Априорная оценка количества итераций:"
   ]
  },
  {
   "cell_type": "code",
   "execution_count": 12,
   "metadata": {},
   "outputs": [
    {
     "data": {
      "text/plain": [
       "10.918462396295723"
      ]
     },
     "execution_count": 12,
     "metadata": {},
     "output_type": "execute_result"
    }
   ],
   "source": [
    "its_estimated(H, g, g, eps)"
   ]
  },
  {
   "cell_type": "code",
   "execution_count": 13,
   "metadata": {},
   "outputs": [],
   "source": [
    "x_it = copy(g)\n",
    "x_prev = copy(x_it)\n",
    "cnt_it = 0\n",
    "while max([abs(x_it[i] - x_gauss[i]) for i in range(n)]) > eps:\n",
    "    cnt_it += 1\n",
    "    x_prev = copy(x_it)\n",
    "    x_it = vsum(g, apply(H, x_it))"
   ]
  },
  {
   "cell_type": "markdown",
   "metadata": {},
   "source": [
    "решение:"
   ]
  },
  {
   "cell_type": "code",
   "execution_count": 14,
   "metadata": {},
   "outputs": [
    {
     "data": {
      "text/plain": [
       "[0.09992898343723441, 0.5000336332891339, 0.9999427428043615]"
      ]
     },
     "execution_count": 14,
     "metadata": {},
     "output_type": "execute_result"
    }
   ],
   "source": [
    "x_it"
   ]
  },
  {
   "cell_type": "markdown",
   "metadata": {},
   "source": [
    "количество итераций:"
   ]
  },
  {
   "cell_type": "code",
   "execution_count": 15,
   "metadata": {},
   "outputs": [
    {
     "data": {
      "text/plain": [
       "10"
      ]
     },
     "execution_count": 15,
     "metadata": {},
     "output_type": "execute_result"
    }
   ],
   "source": [
    "cnt_it"
   ]
  },
  {
   "cell_type": "markdown",
   "metadata": {},
   "source": [
    "уточнение по Люстернику:"
   ]
  },
  {
   "cell_type": "code",
   "execution_count": 16,
   "metadata": {},
   "outputs": [
    {
     "data": {
      "text/plain": [
       "[0.09994822736073213, 0.49999480986808165, 1.000065224005445]"
      ]
     },
     "execution_count": 16,
     "metadata": {},
     "output_type": "execute_result"
    }
   ],
   "source": [
    "x_it_l = lusternik(x_prev, x_it)\n",
    "x_it_l"
   ]
  },
  {
   "cell_type": "markdown",
   "metadata": {},
   "source": [
    "## Метод Зейделя"
   ]
  },
  {
   "cell_type": "markdown",
   "metadata": {},
   "source": [
    "Априорная оценка количества итераций:"
   ]
  },
  {
   "cell_type": "code",
   "execution_count": 17,
   "metadata": {},
   "outputs": [
    {
     "data": {
      "text/plain": [
       "5.957840592227704"
      ]
     },
     "execution_count": 17,
     "metadata": {},
     "output_type": "execute_result"
    }
   ],
   "source": [
    "HL = copy(H)\n",
    "HR = copy(H)\n",
    "for i in range(n):\n",
    "    for j in range(n):\n",
    "        if j < i:\n",
    "            HL[i][j] = H[i][j]\n",
    "            HR[i][j] = 0\n",
    "        else:\n",
    "            HL[i][j] = 0\n",
    "            HR[i][j] = H[i][j]\n",
    "E = copy(H)\n",
    "for i in range(n):\n",
    "    for j in range(n):\n",
    "        if i == j:\n",
    "            E[i][j] = 1\n",
    "        else:\n",
    "            E[i][j] = 0\n",
    "            \n",
    "HL = np.array(HL)\n",
    "HR = np.array(HR)\n",
    "E = np.array(E)\n",
    "\n",
    "Hseid = linalg.inv(E - HL).dot(HR)\n",
    "gseid = linalg.inv(E - HL).dot(g)\n",
    "\n",
    "its_estimated(Hseid, gseid, g, eps)"
   ]
  },
  {
   "cell_type": "code",
   "execution_count": 18,
   "metadata": {},
   "outputs": [],
   "source": [
    "x_z = copy(g)\n",
    "x_prev = copy(x_z)\n",
    "cnt_z = 0\n",
    "while max([abs(x_z[i] - x_gauss[i]) for i in range(n)]) > eps:\n",
    "    cnt_z += 1\n",
    "    x_prev = copy(x_z)\n",
    "    x_z = [0] * n\n",
    "    for i in range(n):\n",
    "        for j in range(i):\n",
    "            x_z[i] += H[i][j] * x_z[j]\n",
    "        for j in range(i, n):\n",
    "            x_z[i] += H[i][j] * x_prev[j]\n",
    "        x_z[i] += g[i]"
   ]
  },
  {
   "cell_type": "markdown",
   "metadata": {},
   "source": [
    "решение:"
   ]
  },
  {
   "cell_type": "code",
   "execution_count": 19,
   "metadata": {},
   "outputs": [
    {
     "data": {
      "text/plain": [
       "[0.0999084898582892, 0.5000364914092834, 0.9999487608295159]"
      ]
     },
     "execution_count": 19,
     "metadata": {},
     "output_type": "execute_result"
    }
   ],
   "source": [
    "x_z"
   ]
  },
  {
   "cell_type": "markdown",
   "metadata": {},
   "source": [
    "количество итераций:"
   ]
  },
  {
   "cell_type": "code",
   "execution_count": 20,
   "metadata": {},
   "outputs": [
    {
     "data": {
      "text/plain": [
       "4"
      ]
     },
     "execution_count": 20,
     "metadata": {},
     "output_type": "execute_result"
    }
   ],
   "source": [
    "cnt_z"
   ]
  },
  {
   "cell_type": "markdown",
   "metadata": {},
   "source": [
    "уточнение по Люстернику:"
   ]
  },
  {
   "cell_type": "code",
   "execution_count": 21,
   "metadata": {},
   "outputs": [
    {
     "data": {
      "text/plain": [
       "[0.10022629797427937, 0.49992188432100176, 1.0000939170743568]"
      ]
     },
     "execution_count": 21,
     "metadata": {},
     "output_type": "execute_result"
    }
   ],
   "source": [
    "x_z_l = lusternik(x_prev, x_z)\n",
    "x_z_l"
   ]
  },
  {
   "cell_type": "markdown",
   "metadata": {},
   "source": [
    "## Метод верхней релаксации"
   ]
  },
  {
   "cell_type": "code",
   "execution_count": 22,
   "metadata": {},
   "outputs": [],
   "source": [
    "q = 2./(1 + sqrt(1 - spectral_radix**2))\n",
    "\n",
    "x_sor = copy(g)\n",
    "x_prev = copy(x_sor)\n",
    "cnt_sor = 0\n",
    "while max([abs(x_sor[i] - x_gauss[i]) for i in range(n)]) > eps:\n",
    "    cnt_sor += 1\n",
    "    x_prev = copy(x_sor)\n",
    "    for i in range(n):\n",
    "        x_sor[i] += q * g[i]\n",
    "        x_sor[i] -= q * x_prev[i]\n",
    "        for j in range(i):\n",
    "            x_sor[i] += q * H[i][j] * x_sor[j]\n",
    "        for j in range(i, n):\n",
    "            x_sor[i] += q * H[i][j] * x_prev[j]"
   ]
  },
  {
   "cell_type": "markdown",
   "metadata": {},
   "source": [
    "решение:"
   ]
  },
  {
   "cell_type": "code",
   "execution_count": 23,
   "metadata": {},
   "outputs": [
    {
     "data": {
      "text/plain": [
       "[0.10001943593120183, 0.4999976287341581, 1.0000079353642581]"
      ]
     },
     "execution_count": 23,
     "metadata": {},
     "output_type": "execute_result"
    }
   ],
   "source": [
    "x_sor"
   ]
  },
  {
   "cell_type": "markdown",
   "metadata": {},
   "source": [
    "количество итераций:"
   ]
  },
  {
   "cell_type": "code",
   "execution_count": 24,
   "metadata": {},
   "outputs": [
    {
     "data": {
      "text/plain": [
       "4"
      ]
     },
     "execution_count": 24,
     "metadata": {},
     "output_type": "execute_result"
    }
   ],
   "source": [
    "cnt_sor"
   ]
  },
  {
   "cell_type": "markdown",
   "metadata": {},
   "source": [
    "## Сравнение результатов"
   ]
  },
  {
   "cell_type": "code",
   "execution_count": 25,
   "metadata": {},
   "outputs": [
    {
     "data": {
      "text/html": [
       "<style  type=\"text/css\" >\n",
       "</style><table id=\"T_1db4257e_a4ea_11ea_8037_06364342cb9e\" ><thead>    <tr>        <th class=\"col_heading level0 col0\" >Метод</th>        <th class=\"col_heading level0 col1\" >Максимальная ошибка</th>        <th class=\"col_heading level0 col2\" >Средняя ошибка</th>        <th class=\"col_heading level0 col3\" >Число итераций</th>    </tr></thead><tbody>\n",
       "                <tr>\n",
       "                                <td id=\"T_1db4257e_a4ea_11ea_8037_06364342cb9erow0_col0\" class=\"data row0 col0\" >Простой итерации</td>\n",
       "                        <td id=\"T_1db4257e_a4ea_11ea_8037_06364342cb9erow0_col1\" class=\"data row0 col1\" >0.000071</td>\n",
       "                        <td id=\"T_1db4257e_a4ea_11ea_8037_06364342cb9erow0_col2\" class=\"data row0 col2\" >0.000054</td>\n",
       "                        <td id=\"T_1db4257e_a4ea_11ea_8037_06364342cb9erow0_col3\" class=\"data row0 col3\" >10</td>\n",
       "            </tr>\n",
       "            <tr>\n",
       "                                <td id=\"T_1db4257e_a4ea_11ea_8037_06364342cb9erow1_col0\" class=\"data row1 col0\" >Простой итерации с уточнением</td>\n",
       "                        <td id=\"T_1db4257e_a4ea_11ea_8037_06364342cb9erow1_col1\" class=\"data row1 col1\" >0.000065</td>\n",
       "                        <td id=\"T_1db4257e_a4ea_11ea_8037_06364342cb9erow1_col2\" class=\"data row1 col2\" >0.000041</td>\n",
       "                        <td id=\"T_1db4257e_a4ea_11ea_8037_06364342cb9erow1_col3\" class=\"data row1 col3\" >10</td>\n",
       "            </tr>\n",
       "            <tr>\n",
       "                                <td id=\"T_1db4257e_a4ea_11ea_8037_06364342cb9erow2_col0\" class=\"data row2 col0\" >Зейделя</td>\n",
       "                        <td id=\"T_1db4257e_a4ea_11ea_8037_06364342cb9erow2_col1\" class=\"data row2 col1\" >0.000092</td>\n",
       "                        <td id=\"T_1db4257e_a4ea_11ea_8037_06364342cb9erow2_col2\" class=\"data row2 col2\" >0.000060</td>\n",
       "                        <td id=\"T_1db4257e_a4ea_11ea_8037_06364342cb9erow2_col3\" class=\"data row2 col3\" >4</td>\n",
       "            </tr>\n",
       "            <tr>\n",
       "                                <td id=\"T_1db4257e_a4ea_11ea_8037_06364342cb9erow3_col0\" class=\"data row3 col0\" >Зейделя с уточнением</td>\n",
       "                        <td id=\"T_1db4257e_a4ea_11ea_8037_06364342cb9erow3_col1\" class=\"data row3 col1\" >0.000226</td>\n",
       "                        <td id=\"T_1db4257e_a4ea_11ea_8037_06364342cb9erow3_col2\" class=\"data row3 col2\" >0.000133</td>\n",
       "                        <td id=\"T_1db4257e_a4ea_11ea_8037_06364342cb9erow3_col3\" class=\"data row3 col3\" >4</td>\n",
       "            </tr>\n",
       "            <tr>\n",
       "                                <td id=\"T_1db4257e_a4ea_11ea_8037_06364342cb9erow4_col0\" class=\"data row4 col0\" >Верхней релаксации</td>\n",
       "                        <td id=\"T_1db4257e_a4ea_11ea_8037_06364342cb9erow4_col1\" class=\"data row4 col1\" >0.000019</td>\n",
       "                        <td id=\"T_1db4257e_a4ea_11ea_8037_06364342cb9erow4_col2\" class=\"data row4 col2\" >0.000010</td>\n",
       "                        <td id=\"T_1db4257e_a4ea_11ea_8037_06364342cb9erow4_col3\" class=\"data row4 col3\" >4</td>\n",
       "            </tr>\n",
       "    </tbody></table>"
      ],
      "text/plain": [
       "<pandas.io.formats.style.Styler at 0x7ff8a2e0e438>"
      ]
     },
     "execution_count": 25,
     "metadata": {},
     "output_type": "execute_result"
    }
   ],
   "source": [
    "def max_error(v1):\n",
    "    return max([abs(v1[i] - x_gauss[i]) for i in range(len(v1))])\n",
    "\n",
    "def mean_error(v1):\n",
    "    return sum([abs(v1[i] - x_gauss[i]) for i in range(len(v1))]) / len(v1)\n",
    "\n",
    "table = df(data={\n",
    "    'Метод': ['Простой итерации', 'Простой итерации с уточнением', 'Зейделя', 'Зейделя с уточнением', 'Верхней релаксации'],\n",
    "    'Максимальная ошибка': [max_error(x) for x in [x_it, x_it_l, x_z, x_z_l, x_sor]],\n",
    "    'Средняя ошибка': [mean_error(x) for x in [x_it, x_it_l, x_z, x_z_l, x_sor]],\n",
    "    'Число итераций': [cnt_it, cnt_it, cnt_z, cnt_z, cnt_sor]\n",
    "})\n",
    "table.style.hide_index()"
   ]
  }
 ],
 "metadata": {
  "kernelspec": {
   "display_name": "Python 3",
   "language": "python",
   "name": "python3"
  },
  "language_info": {
   "codemirror_mode": {
    "name": "ipython",
    "version": 3
   },
   "file_extension": ".py",
   "mimetype": "text/x-python",
   "name": "python",
   "nbconvert_exporter": "python",
   "pygments_lexer": "ipython3",
   "version": "3.6.9"
  }
 },
 "nbformat": 4,
 "nbformat_minor": 4
}
