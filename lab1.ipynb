{
 "cells": [
  {
   "cell_type": "code",
   "execution_count": 168,
   "metadata": {},
   "outputs": [],
   "source": [
    "from copy import deepcopy as copy"
   ]
  },
  {
   "cell_type": "markdown",
   "metadata": {},
   "source": [
    "# 1.  Точные методы решения СЛАУ."
   ]
  },
  {
   "cell_type": "code",
   "execution_count": 169,
   "metadata": {},
   "outputs": [],
   "source": [
    "A = [[9.016024, 1.082197, -2.783575],\n",
    "     [1.082197, 6.846595, 0.647647],\n",
    "     [-2.783575, 0.647647, 5.432541]]\n",
    "\n",
    "B = [-1.340873, 4.179164, 5.478007]"
   ]
  },
  {
   "cell_type": "markdown",
   "metadata": {},
   "source": [
    "## Решение СЛАУ методом Гаусса"
   ]
  },
  {
   "cell_type": "code",
   "execution_count": 170,
   "metadata": {},
   "outputs": [],
   "source": [
    "a = copy(A)\n",
    "b = copy(B)"
   ]
  },
  {
   "cell_type": "markdown",
   "metadata": {},
   "source": [
    "прямой ход"
   ]
  },
  {
   "cell_type": "code",
   "execution_count": 171,
   "metadata": {},
   "outputs": [],
   "source": [
    "for i in range(len(a)):\n",
    "    c = a[i][i]\n",
    "    for j in range(i, len(a)):\n",
    "        a[i][j] /= c\n",
    "    b[i] /= c\n",
    "    for j in range(i + 1, len(a)):\n",
    "        c = a[j][i]\n",
    "        for k in range(i, len(a)):\n",
    "            a[j][k] -= a[i][k] * c\n",
    "        b[j] -= b[i] * c"
   ]
  },
  {
   "cell_type": "code",
   "execution_count": 172,
   "metadata": {},
   "outputs": [
    {
     "data": {
      "text/plain": [
       "[[1.0, 0.12003040364577558, -0.30873642306187293],\n",
       " [0.0, 1.0, 0.14616714403283587],\n",
       " [0.0, 0.0, 1.0]]"
      ]
     },
     "execution_count": 172,
     "metadata": {},
     "output_type": "execute_result"
    }
   ],
   "source": [
    "a"
   ]
  },
  {
   "cell_type": "code",
   "execution_count": 173,
   "metadata": {},
   "outputs": [
    {
     "data": {
      "text/plain": [
       "[-0.14872109923398608, 0.6461670945988102, 1.0000000876237503]"
      ]
     },
     "execution_count": 173,
     "metadata": {},
     "output_type": "execute_result"
    }
   ],
   "source": [
    "b"
   ]
  },
  {
   "cell_type": "markdown",
   "metadata": {},
   "source": [
    "обратный ход"
   ]
  },
  {
   "cell_type": "code",
   "execution_count": 174,
   "metadata": {},
   "outputs": [],
   "source": [
    "for i in range(len(a)-1, -1, -1):\n",
    "    for j in range(i + 1, len(a)):\n",
    "        b[i] -= a[i][j] * b[j]"
   ]
  },
  {
   "cell_type": "markdown",
   "metadata": {},
   "source": [
    "Ответ: [x1, x2, x3]"
   ]
  },
  {
   "cell_type": "code",
   "execution_count": 175,
   "metadata": {},
   "outputs": [
    {
     "data": {
      "text/plain": [
       "[0.10000015652854335, 0.49999993775826096, 1.0000000876237503]"
      ]
     },
     "execution_count": 175,
     "metadata": {},
     "output_type": "execute_result"
    }
   ],
   "source": [
    "b"
   ]
  },
  {
   "cell_type": "markdown",
   "metadata": {},
   "source": [
    "проверка"
   ]
  },
  {
   "cell_type": "code",
   "execution_count": 176,
   "metadata": {},
   "outputs": [
    {
     "name": "stdout",
     "output_type": "stream",
     "text": [
      "-1.3408730000000002 ,  -1.340873\n",
      "4.179163999999999 ,  4.179164\n",
      "5.478007 ,  5.478007\n"
     ]
    }
   ],
   "source": [
    "for i in range(len(a)):\n",
    "    print(b[0] * A[i][0] + b[1] * A[i][1] + b[2] * A[i][2], ', ', B[i])"
   ]
  },
  {
   "cell_type": "markdown",
   "metadata": {},
   "source": [
    "## Поиск обратной матрицы методом Жордана"
   ]
  },
  {
   "cell_type": "code",
   "execution_count": 177,
   "metadata": {},
   "outputs": [],
   "source": [
    "a = copy(A)\n",
    "a[0].extend([1, 0, 0])\n",
    "a[1].extend([0, 1, 0])\n",
    "a[2].extend([0, 0, 1])"
   ]
  },
  {
   "cell_type": "markdown",
   "metadata": {},
   "source": [
    "упорядочим строки"
   ]
  },
  {
   "cell_type": "code",
   "execution_count": 178,
   "metadata": {},
   "outputs": [],
   "source": [
    "order = [0, 1, 2]\n",
    "for i in range(len(a)):\n",
    "    for j in range(i + 1, len(a)):\n",
    "        if (a[j][i] > a[i][i]):\n",
    "            a[i], a[j] = a[j], a[i]\n",
    "            order[i], order[j] = order[j], order[i]"
   ]
  },
  {
   "cell_type": "code",
   "execution_count": 179,
   "metadata": {},
   "outputs": [
    {
     "data": {
      "text/plain": [
       "([[9.016024, 1.082197, -2.783575, 1, 0, 0],\n",
       "  [1.082197, 6.846595, 0.647647, 0, 1, 0],\n",
       "  [-2.783575, 0.647647, 5.432541, 0, 0, 1]],\n",
       " [0, 1, 2])"
      ]
     },
     "execution_count": 179,
     "metadata": {},
     "output_type": "execute_result"
    }
   ],
   "source": [
    "a, order"
   ]
  },
  {
   "cell_type": "code",
   "execution_count": 180,
   "metadata": {},
   "outputs": [],
   "source": [
    "for i in range(len(a)):\n",
    "    c = a[i][i]\n",
    "    for k in range(i, len(a[i])):\n",
    "        a[i][k] /= c\n",
    "    for j in range(len(a)):\n",
    "        if j != i:\n",
    "            c = a[j][i]\n",
    "            for k in range(i, len(a[i])):\n",
    "                a[j][k] -= a[i][k] * c"
   ]
  },
  {
   "cell_type": "code",
   "execution_count": 181,
   "metadata": {},
   "outputs": [
    {
     "data": {
      "text/plain": [
       "[[1.0,\n",
       "  0.0,\n",
       "  0.0,\n",
       "  0.13709196898284867,\n",
       "  -0.02863688746410374,\n",
       "  0.07365841727046284],\n",
       " [0.0,\n",
       "  1.0,\n",
       "  0.0,\n",
       "  -0.02863688746410374,\n",
       "  0.1537058139368252,\n",
       "  -0.03299745612626497],\n",
       " [0.0,\n",
       "  0.0,\n",
       "  1.0,\n",
       "  0.07365841727046282,\n",
       "  -0.03299745612626497,\n",
       "  0.22575152811942623]]"
      ]
     },
     "execution_count": 181,
     "metadata": {},
     "output_type": "execute_result"
    }
   ],
   "source": [
    "a"
   ]
  },
  {
   "cell_type": "code",
   "execution_count": 182,
   "metadata": {},
   "outputs": [],
   "source": [
    "inv = []\n",
    "for x in order:\n",
    "    inv.append(a[x][len(a):])"
   ]
  },
  {
   "cell_type": "markdown",
   "metadata": {},
   "source": [
    "Обратная матрица:"
   ]
  },
  {
   "cell_type": "code",
   "execution_count": 183,
   "metadata": {},
   "outputs": [
    {
     "data": {
      "text/plain": [
       "[[0.13709196898284867, -0.02863688746410374, 0.07365841727046284],\n",
       " [-0.02863688746410374, 0.1537058139368252, -0.03299745612626497],\n",
       " [0.07365841727046282, -0.03299745612626497, 0.22575152811942623]]"
      ]
     },
     "execution_count": 183,
     "metadata": {},
     "output_type": "execute_result"
    }
   ],
   "source": [
    "inv"
   ]
  },
  {
   "cell_type": "markdown",
   "metadata": {},
   "source": [
    "Проверка"
   ]
  },
  {
   "cell_type": "code",
   "execution_count": 184,
   "metadata": {},
   "outputs": [
    {
     "data": {
      "text/plain": [
       "[[0.9999999999999998, -2.7755575615628914e-17, 0.0],\n",
       " [-2.0816681711721685e-17, 0.9999999999999999, -2.7755575615628914e-17],\n",
       " [-5.551115123125783e-17, -2.7755575615628914e-17, 1.0]]"
      ]
     },
     "execution_count": 184,
     "metadata": {},
     "output_type": "execute_result"
    }
   ],
   "source": [
    "p = copy(A)\n",
    "for i in range(len(a)):\n",
    "    for j in range(len(a)):\n",
    "        p[i][j] = 0\n",
    "        for k in range(len(a)):\n",
    "            p[i][j] += A[i][k] * inv[k][j]\n",
    "p"
   ]
  },
  {
   "cell_type": "markdown",
   "metadata": {},
   "source": [
    "## Вычисление определителя через LU-разложение"
   ]
  },
  {
   "cell_type": "code",
   "execution_count": 185,
   "metadata": {},
   "outputs": [],
   "source": [
    "L = copy(A)\n",
    "U = copy(A)\n",
    "for i in range(len(A)):\n",
    "    for j in range(len(A)):\n",
    "        L[j][i] = A[j][i]\n",
    "        for k in range(i):\n",
    "            L[j][i] -= L[j][k] * U[k][i]\n",
    "    for j in range(len(A)):\n",
    "        U[i][j] = A[i][j]\n",
    "        for k in range(i):\n",
    "            U[i][j] -= L[i][k] * U[k][j]\n",
    "        U[i][j] /= L[i][i]"
   ]
  },
  {
   "cell_type": "code",
   "execution_count": 186,
   "metadata": {},
   "outputs": [
    {
     "data": {
      "text/plain": [
       "[[9.016024, 0.0, 0.0],\n",
       " [1.082197, 6.716698457265752, 0.0],\n",
       " [-2.783575, 0.9817606308282898, 4.4296488636435]]"
      ]
     },
     "execution_count": 186,
     "metadata": {},
     "output_type": "execute_result"
    }
   ],
   "source": [
    "L"
   ]
  },
  {
   "cell_type": "code",
   "execution_count": 187,
   "metadata": {},
   "outputs": [
    {
     "data": {
      "text/plain": [
       "[[1.0, 0.12003040364577558, -0.30873642306187293],\n",
       " [0.0, 1.0, 0.14616714403283587],\n",
       " [0.0, 0.0, 1.0]]"
      ]
     },
     "execution_count": 187,
     "metadata": {},
     "output_type": "execute_result"
    }
   ],
   "source": [
    "U"
   ]
  },
  {
   "cell_type": "code",
   "execution_count": 188,
   "metadata": {},
   "outputs": [],
   "source": [
    "det = 1\n",
    "for i in range(len(A)):\n",
    "    det *= L[i][i]"
   ]
  },
  {
   "cell_type": "markdown",
   "metadata": {},
   "source": [
    "Определитель:"
   ]
  },
  {
   "cell_type": "code",
   "execution_count": 189,
   "metadata": {},
   "outputs": [
    {
     "data": {
      "text/plain": [
       "268.2502971117647"
      ]
     },
     "execution_count": 189,
     "metadata": {},
     "output_type": "execute_result"
    }
   ],
   "source": [
    "det"
   ]
  },
  {
   "cell_type": "markdown",
   "metadata": {},
   "source": [
    "Проверка"
   ]
  },
  {
   "cell_type": "code",
   "execution_count": 190,
   "metadata": {},
   "outputs": [
    {
     "data": {
      "text/plain": [
       "268.2502971117648"
      ]
     },
     "execution_count": 190,
     "metadata": {},
     "output_type": "execute_result"
    }
   ],
   "source": [
    "det2 = 0\n",
    "det2 += A[0][0] * A[1][1] * A[2][2] - A[0][0] * A[1][2] * A[2][1]\n",
    "det2 += A[0][1] * A[1][2] * A[2][0] - A[0][1] * A[1][0] * A[2][2]\n",
    "det2 += A[0][2] * A[1][0] * A[2][1] - A[0][2] * A[1][1] * A[2][0]\n",
    "det2"
   ]
  }
 ],
 "metadata": {
  "kernelspec": {
   "display_name": "Python 3",
   "language": "python",
   "name": "python3"
  },
  "language_info": {
   "codemirror_mode": {
    "name": "ipython",
    "version": 3
   },
   "file_extension": ".py",
   "mimetype": "text/x-python",
   "name": "python",
   "nbconvert_exporter": "python",
   "pygments_lexer": "ipython3",
   "version": "3.6.9"
  }
 },
 "nbformat": 4,
 "nbformat_minor": 4
}
