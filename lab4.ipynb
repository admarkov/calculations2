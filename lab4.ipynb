{
 "cells": [
  {
   "cell_type": "markdown",
   "metadata": {},
   "source": [
    "# 4. Численное решение интегрального уравнения Фредгольма 2-го рода"
   ]
  },
  {
   "cell_type": "code",
   "execution_count": 111,
   "metadata": {},
   "outputs": [],
   "source": [
    "import math\n",
    "import numpy as np\n",
    "import sympy as sp\n",
    "from pandas import DataFrame as df"
   ]
  },
  {
   "cell_type": "markdown",
   "metadata": {},
   "source": [
    "$ u(x) - 0.6 \\int_0^1{ch(xy)u(y)dy} = x - 0.6 $"
   ]
  },
  {
   "cell_type": "code",
   "execution_count": 112,
   "metadata": {},
   "outputs": [],
   "source": [
    "def f(x):\n",
    "    return x - 0.6\n",
    "\n",
    "def H(x, y):\n",
    "    return -0.6 * math.cosh(x * y)"
   ]
  },
  {
   "cell_type": "markdown",
   "metadata": {},
   "source": [
    "## Метод замены ядра на вырожденное"
   ]
  },
  {
   "cell_type": "markdown",
   "metadata": {},
   "source": [
    "Разложенем -0.6ch(xy) в ряд Маклорена двух переменных\n",
    "$$ \\widetilde{H^n}(x, y) = -0.6 \\cdot \\sum_{k = 0}^{n-1}{x^{2k} \\cdot \\frac{y^{2k}}{2k!}} $$\n",
    "$$ \\alpha_k(x) = -0.6 \\cdot x^{2k},\\, \\beta_k(y) = \\frac{y^{2k}}{2k!} $$"
   ]
  },
  {
   "cell_type": "code",
   "execution_count": 113,
   "metadata": {},
   "outputs": [],
   "source": [
    "def u(n):\n",
    "    A = [[0] * n for i in range(n)]\n",
    "    b = [0] * n\n",
    "    for i in range(0, n):\n",
    "        y = sp.Symbol('y')\n",
    "        integral = sp.integrate(y ** (2 * i) / sp.factorial(2 * i) * (y - 0.6), y)\n",
    "        by = sp.lambdify(y, integral, 'math')\n",
    "        b[i] = by(1) - by(0)\n",
    "        for j in range(0, n):\n",
    "            integral = sp.integrate(-0.6 * y ** (2*(i+j)) / sp.factorial(2 * i), y)\n",
    "            gammaij = sp.lambdify(y, integral, 'math')\n",
    "            A[i][j] = (1 if i == j else 0) - (gammaij(1) - gammaij(0))\n",
    "    c = np.linalg.solve(A, b)\n",
    "    return lambda x: f(x) + sum([c[i] * -0.6 * x ** (2 * i) for i in range(n)])"
   ]
  },
  {
   "cell_type": "code",
   "execution_count": 114,
   "metadata": {},
   "outputs": [],
   "source": [
    "u3 = u(3)\n",
    "u4 = u(4)"
   ]
  },
  {
   "cell_type": "code",
   "execution_count": 115,
   "metadata": {},
   "outputs": [
    {
     "data": {
      "text/html": [
       "<style  type=\"text/css\" >\n",
       "</style><table id=\"T_60c8756a_ac1d_11ea_a351_06364342cb9e\" ><thead>    <tr>        <th class=\"col_heading level0 col0\" >x</th>        <th class=\"col_heading level0 col1\" >0</th>        <th class=\"col_heading level0 col2\" >0.5</th>        <th class=\"col_heading level0 col3\" >1</th>    </tr></thead><tbody>\n",
       "                <tr>\n",
       "                                <td id=\"T_60c8756a_ac1d_11ea_a351_06364342cb9erow0_col0\" class=\"data row0 col0\" >$\\widetilde{u^3}$</td>\n",
       "                        <td id=\"T_60c8756a_ac1d_11ea_a351_06364342cb9erow0_col1\" class=\"data row0 col1\" >-0.560171</td>\n",
       "                        <td id=\"T_60c8756a_ac1d_11ea_a351_06364342cb9erow0_col2\" class=\"data row0 col2\" >-0.064716</td>\n",
       "                        <td id=\"T_60c8756a_ac1d_11ea_a351_06364342cb9erow0_col3\" class=\"data row0 col3\" >0.420675</td>\n",
       "            </tr>\n",
       "            <tr>\n",
       "                                <td id=\"T_60c8756a_ac1d_11ea_a351_06364342cb9erow1_col0\" class=\"data row1 col0\" >$\\widetilde{u^4}$</td>\n",
       "                        <td id=\"T_60c8756a_ac1d_11ea_a351_06364342cb9erow1_col1\" class=\"data row1 col1\" >-0.560169</td>\n",
       "                        <td id=\"T_60c8756a_ac1d_11ea_a351_06364342cb9erow1_col2\" class=\"data row1 col2\" >-0.064714</td>\n",
       "                        <td id=\"T_60c8756a_ac1d_11ea_a351_06364342cb9erow1_col3\" class=\"data row1 col3\" >0.420642</td>\n",
       "            </tr>\n",
       "    </tbody></table>"
      ],
      "text/plain": [
       "<pandas.io.formats.style.Styler at 0x7f971d23cba8>"
      ]
     },
     "execution_count": 115,
     "metadata": {},
     "output_type": "execute_result"
    }
   ],
   "source": [
    "table = df(data={\n",
    "    'x': ['$\\widetilde{u^3}$', '$\\widetilde{u^4}$'],\n",
    "    '0': [u3(0), u4(0)],\n",
    "    '0.5': [u3(0.5), u4(0.5)],\n",
    "    '1': [u3(1), u4(1)]\n",
    "})\n",
    "table.style.hide_index()"
   ]
  },
  {
   "cell_type": "markdown",
   "metadata": {},
   "source": [
    "$\\widetilde{\\Delta}$:"
   ]
  },
  {
   "cell_type": "code",
   "execution_count": 116,
   "metadata": {},
   "outputs": [
    {
     "data": {
      "text/plain": [
       "3.29136295962873e-05"
      ]
     },
     "execution_count": 116,
     "metadata": {},
     "output_type": "execute_result"
    }
   ],
   "source": [
    "delta = max([abs(u4(x) - u3(x)) for x in [i / 100000 for i in range(100000)]])\n",
    "delta"
   ]
  },
  {
   "cell_type": "markdown",
   "metadata": {},
   "source": [
    "## Метод механических квадратур"
   ]
  },
  {
   "cell_type": "code",
   "execution_count": 117,
   "metadata": {},
   "outputs": [],
   "source": [
    "def u(n):\n",
    "    h = 1/n\n",
    "    \n",
    "    def x(i):\n",
    "        return h * i + h / 2\n",
    "    \n",
    "    g = [f(x(i)) for i in range(n)]\n",
    "    D = [[0] * n for i in range(n)]\n",
    "    for i in range(n):\n",
    "        for j in range(n):\n",
    "            D[i][j] = (1 if i == j else 0) - h * H(x(i), x(j))\n",
    "    \n",
    "    z = np.linalg.solve(D, g)\n",
    "    return lambda y: f(y) + sum([h * H(y, x(i)) * z[i] for i in range(n)])"
   ]
  },
  {
   "cell_type": "code",
   "execution_count": 119,
   "metadata": {},
   "outputs": [
    {
     "data": {
      "text/html": [
       "<style  type=\"text/css\" >\n",
       "</style><table id=\"T_6beef7e8_ac1d_11ea_a351_06364342cb9e\" ><thead>    <tr>        <th class=\"col_heading level0 col0\" >m\\x</th>        <th class=\"col_heading level0 col1\" >0</th>        <th class=\"col_heading level0 col2\" >0.5</th>        <th class=\"col_heading level0 col3\" >1</th>    </tr></thead><tbody>\n",
       "                <tr>\n",
       "                                <td id=\"T_6beef7e8_ac1d_11ea_a351_06364342cb9erow0_col0\" class=\"data row0 col0\" >1</td>\n",
       "                        <td id=\"T_6beef7e8_ac1d_11ea_a351_06364342cb9erow0_col1\" class=\"data row0 col1\" >-0.562937</td>\n",
       "                        <td id=\"T_6beef7e8_ac1d_11ea_a351_06364342cb9erow0_col2\" class=\"data row0 col2\" >-0.061772</td>\n",
       "                        <td id=\"T_6beef7e8_ac1d_11ea_a351_06364342cb9erow0_col3\" class=\"data row0 col3\" >0.441794</td>\n",
       "            </tr>\n",
       "            <tr>\n",
       "                                <td id=\"T_6beef7e8_ac1d_11ea_a351_06364342cb9erow1_col0\" class=\"data row1 col0\" >2</td>\n",
       "                        <td id=\"T_6beef7e8_ac1d_11ea_a351_06364342cb9erow1_col1\" class=\"data row1 col1\" >-0.561002</td>\n",
       "                        <td id=\"T_6beef7e8_ac1d_11ea_a351_06364342cb9erow1_col2\" class=\"data row1 col2\" >-0.064150</td>\n",
       "                        <td id=\"T_6beef7e8_ac1d_11ea_a351_06364342cb9erow1_col3\" class=\"data row1 col3\" >0.425865</td>\n",
       "            </tr>\n",
       "            <tr>\n",
       "                                <td id=\"T_6beef7e8_ac1d_11ea_a351_06364342cb9erow2_col0\" class=\"data row2 col0\" >4</td>\n",
       "                        <td id=\"T_6beef7e8_ac1d_11ea_a351_06364342cb9erow2_col1\" class=\"data row2 col1\" >-0.560386</td>\n",
       "                        <td id=\"T_6beef7e8_ac1d_11ea_a351_06364342cb9erow2_col2\" class=\"data row2 col2\" >-0.064585</td>\n",
       "                        <td id=\"T_6beef7e8_ac1d_11ea_a351_06364342cb9erow2_col3\" class=\"data row2 col3\" >0.421940</td>\n",
       "            </tr>\n",
       "            <tr>\n",
       "                                <td id=\"T_6beef7e8_ac1d_11ea_a351_06364342cb9erow3_col0\" class=\"data row3 col0\" >8</td>\n",
       "                        <td id=\"T_6beef7e8_ac1d_11ea_a351_06364342cb9erow3_col1\" class=\"data row3 col1\" >-0.560224</td>\n",
       "                        <td id=\"T_6beef7e8_ac1d_11ea_a351_06364342cb9erow3_col2\" class=\"data row3 col2\" >-0.064683</td>\n",
       "                        <td id=\"T_6beef7e8_ac1d_11ea_a351_06364342cb9erow3_col3\" class=\"data row3 col3\" >0.420966</td>\n",
       "            </tr>\n",
       "            <tr>\n",
       "                                <td id=\"T_6beef7e8_ac1d_11ea_a351_06364342cb9erow4_col0\" class=\"data row4 col0\" >16</td>\n",
       "                        <td id=\"T_6beef7e8_ac1d_11ea_a351_06364342cb9erow4_col1\" class=\"data row4 col1\" >-0.560183</td>\n",
       "                        <td id=\"T_6beef7e8_ac1d_11ea_a351_06364342cb9erow4_col2\" class=\"data row4 col2\" >-0.064706</td>\n",
       "                        <td id=\"T_6beef7e8_ac1d_11ea_a351_06364342cb9erow4_col3\" class=\"data row4 col3\" >0.420723</td>\n",
       "            </tr>\n",
       "            <tr>\n",
       "                                <td id=\"T_6beef7e8_ac1d_11ea_a351_06364342cb9erow5_col0\" class=\"data row5 col0\" >32</td>\n",
       "                        <td id=\"T_6beef7e8_ac1d_11ea_a351_06364342cb9erow5_col1\" class=\"data row5 col1\" >-0.560172</td>\n",
       "                        <td id=\"T_6beef7e8_ac1d_11ea_a351_06364342cb9erow5_col2\" class=\"data row5 col2\" >-0.064712</td>\n",
       "                        <td id=\"T_6beef7e8_ac1d_11ea_a351_06364342cb9erow5_col3\" class=\"data row5 col3\" >0.420662</td>\n",
       "            </tr>\n",
       "            <tr>\n",
       "                                <td id=\"T_6beef7e8_ac1d_11ea_a351_06364342cb9erow6_col0\" class=\"data row6 col0\" >решение пред.пункта</td>\n",
       "                        <td id=\"T_6beef7e8_ac1d_11ea_a351_06364342cb9erow6_col1\" class=\"data row6 col1\" >-0.560169</td>\n",
       "                        <td id=\"T_6beef7e8_ac1d_11ea_a351_06364342cb9erow6_col2\" class=\"data row6 col2\" >-0.064714</td>\n",
       "                        <td id=\"T_6beef7e8_ac1d_11ea_a351_06364342cb9erow6_col3\" class=\"data row6 col3\" >0.420642</td>\n",
       "            </tr>\n",
       "    </tbody></table>"
      ],
      "text/plain": [
       "<pandas.io.formats.style.Styler at 0x7f971d22f2e8>"
      ]
     },
     "execution_count": 119,
     "metadata": {},
     "output_type": "execute_result"
    }
   ],
   "source": [
    "m = 1\n",
    "ms = [1]\n",
    "while max([abs(u(2 * m)(x) - u(m)(x)) for x in [0, 0.5, 1]]) >= delta:\n",
    "    m *= 2\n",
    "    ms.append(m)\n",
    "table = df(data={\n",
    "    'm\\\\x': [i for i in ms] + ['решение пред.пункта'],\n",
    "    '0': [u(i)(0) for i in ms] + [u4(0)],\n",
    "    '0.5': [u(i)(0.5) for i in ms] + [u4(0.5)],\n",
    "    '1': [u(i)(1) for i in ms] + [u4(1)]\n",
    "})\n",
    "table.style.hide_index()"
   ]
  },
  {
   "cell_type": "code",
   "execution_count": 120,
   "metadata": {},
   "outputs": [
    {
     "data": {
      "text/html": [
       "<style  type=\"text/css\" >\n",
       "    #T_77283a66_ac1d_11ea_a351_06364342cb9erow0_col1 {\n",
       "            width:  150px;\n",
       "        }    #T_77283a66_ac1d_11ea_a351_06364342cb9erow1_col1 {\n",
       "            width:  150px;\n",
       "        }    #T_77283a66_ac1d_11ea_a351_06364342cb9erow2_col1 {\n",
       "            width:  150px;\n",
       "        }</style><table id=\"T_77283a66_ac1d_11ea_a351_06364342cb9e\" ><thead>    <tr>        <th class=\"blank level0\" ></th>        <th class=\"col_heading level0 col0\" >x</th>        <th class=\"col_heading level0 col1\" >$u^{2m}(x) - u^{m}(x)$</th>    </tr></thead><tbody>\n",
       "                <tr>\n",
       "                        <th id=\"T_77283a66_ac1d_11ea_a351_06364342cb9elevel0_row0\" class=\"row_heading level0 row0\" >0</th>\n",
       "                        <td id=\"T_77283a66_ac1d_11ea_a351_06364342cb9erow0_col0\" class=\"data row0 col0\" >0.000000</td>\n",
       "                        <td id=\"T_77283a66_ac1d_11ea_a351_06364342cb9erow0_col1\" class=\"data row0 col1\" >0.000003</td>\n",
       "            </tr>\n",
       "            <tr>\n",
       "                        <th id=\"T_77283a66_ac1d_11ea_a351_06364342cb9elevel0_row1\" class=\"row_heading level0 row1\" >1</th>\n",
       "                        <td id=\"T_77283a66_ac1d_11ea_a351_06364342cb9erow1_col0\" class=\"data row1 col0\" >0.500000</td>\n",
       "                        <td id=\"T_77283a66_ac1d_11ea_a351_06364342cb9erow1_col1\" class=\"data row1 col1\" >-0.000001</td>\n",
       "            </tr>\n",
       "            <tr>\n",
       "                        <th id=\"T_77283a66_ac1d_11ea_a351_06364342cb9elevel0_row2\" class=\"row_heading level0 row2\" >2</th>\n",
       "                        <td id=\"T_77283a66_ac1d_11ea_a351_06364342cb9erow2_col0\" class=\"data row2 col0\" >1.000000</td>\n",
       "                        <td id=\"T_77283a66_ac1d_11ea_a351_06364342cb9erow2_col1\" class=\"data row2 col1\" >-0.000015</td>\n",
       "            </tr>\n",
       "    </tbody></table>"
      ],
      "text/plain": [
       "<pandas.io.formats.style.Styler at 0x7f971d23cc50>"
      ]
     },
     "execution_count": 120,
     "metadata": {},
     "output_type": "execute_result"
    }
   ],
   "source": [
    "table = df(data={\n",
    "    'x': [0, 0.5, 1],\n",
    "    '$u^{2m}(x) - u^{m}(x)$': [u(2 * m)(x) - u(m)(x) for x in [0, 0.5, 1]]\n",
    "})\n",
    "table.style.hide_index()\n",
    "table.style.set_properties(subset=['$u^{2m}(x) - u^{m}(x)$'], width='150px')"
   ]
  }
 ],
 "metadata": {
  "kernelspec": {
   "display_name": "Python 3",
   "language": "python",
   "name": "python3"
  },
  "language_info": {
   "codemirror_mode": {
    "name": "ipython",
    "version": 3
   },
   "file_extension": ".py",
   "mimetype": "text/x-python",
   "name": "python",
   "nbconvert_exporter": "python",
   "pygments_lexer": "ipython3",
   "version": "3.6.9"
  }
 },
 "nbformat": 4,
 "nbformat_minor": 4
}
