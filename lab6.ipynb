{
 "cells": [
  {
   "cell_type": "markdown",
   "metadata": {},
   "source": [
    "# 6. Решение уравнения теплопроводности методом сеток"
   ]
  },
  {
   "cell_type": "code",
   "execution_count": 1,
   "metadata": {},
   "outputs": [],
   "source": [
    "from math import cos\n",
    "from pandas import DataFrame as df"
   ]
  },
  {
   "cell_type": "code",
   "execution_count": 2,
   "metadata": {},
   "outputs": [],
   "source": [
    "def a(x, t):\n",
    "    return cos(x)\n",
    "\n",
    "def b(x, t):\n",
    "    return x\n",
    "\n",
    "def c(x, t):\n",
    "    return 0\n",
    "\n",
    "alpha1 = 0\n",
    "alpha2 = -1\n",
    "beta1 = 1\n",
    "beta2 = 1"
   ]
  },
  {
   "cell_type": "code",
   "execution_count": 3,
   "metadata": {},
   "outputs": [],
   "source": [
    "def u(x, t):\n",
    "    return x**3 + t**3\n",
    "\n",
    "def dudx(x, t):\n",
    "    return 3*(x**2)\n",
    "\n",
    "def dudt(x, t):\n",
    "    return 3*(t**2)\n",
    "\n",
    "def d2udx2(x, t):\n",
    "    return 6 * x\n",
    "\n",
    "def phi(x):\n",
    "    return u(x, 0)\n",
    "\n",
    "def alpha(t):\n",
    "    return alpha1 * u(0, t) - alpha2 * dudx(0, t)\n",
    "\n",
    "def beta(t):\n",
    "    return beta1 * u(1, t) + beta2 * dudx(1, t)\n",
    "\n",
    "def f(x, t):\n",
    "    return dudt(x, t) - a(x, t) * d2udx2(x, t) - b(x, t) * dudx(x, t) - c(x, t) * u(x, t)"
   ]
  },
  {
   "cell_type": "markdown",
   "metadata": {},
   "source": [
    "## Явная разностная схема"
   ]
  },
  {
   "cell_type": "code",
   "execution_count": 4,
   "metadata": {},
   "outputs": [],
   "source": [
    "# подбирает m из условия устойчивости 5m >= n^2\n",
    "def calc_m(n):\n",
    "    m = 5\n",
    "    while 5 * m < n * n:\n",
    "        m *= 2\n",
    "    return m"
   ]
  },
  {
   "cell_type": "code",
   "execution_count": 5,
   "metadata": {},
   "outputs": [],
   "source": [
    "def solve_explicit(n, m):\n",
    "    h = 1/n\n",
    "    tau = 0.1/m\n",
    "    x = [i * h for i in range(n+1)]\n",
    "    u = [[0 for i in range(m+1)] for j in range(n+1)]\n",
    "\n",
    "    for i in range(n+1):\n",
    "        u[i][0] = phi(x[i])\n",
    "    \n",
    "    def L(i, k, h):\n",
    "        return a(x[i], tau * k) * (u[i + 1][k] - 2 * u[i][k] + u[i - 1][k]) / (h ** 2) + b(x[i], tau * k) * \\\n",
    "               (u[i + 1][k] - u[i - 1][k]) / (2 * h) + c(x[i], tau * k) * u[i][k]\n",
    "    \n",
    "    for k in range(1, m+1):\n",
    "        for i in range(1, n):\n",
    "            u[i][k] = u[i][k-1] + tau * (L(i, k - 1, h) + f(x[i], tau * (k - 1)))\n",
    "        u[0][k] = (alpha(tau * k) + alpha2 * (4 * u[1][k] - u[2][k]) / (2 * h)) / (alpha1 + 3 * alpha2 / (2 * h))\n",
    "        u[n][k] = (beta(tau * k) - beta2 * (-4 * u[n - 1][k] + u[n - 2][k]) / (2 * h)) / (beta1 + 3 * beta2 / (2 * h))\n",
    "    \n",
    "    return u                        "
   ]
  },
  {
   "cell_type": "code",
   "execution_count": 6,
   "metadata": {},
   "outputs": [
    {
     "data": {
      "text/plain": [
       "(5, 5)"
      ]
     },
     "execution_count": 6,
     "metadata": {},
     "output_type": "execute_result"
    }
   ],
   "source": [
    "N = 5\n",
    "M = calc_m(5)\n",
    "N, M"
   ]
  },
  {
   "cell_type": "code",
   "execution_count": 7,
   "metadata": {},
   "outputs": [
    {
     "data": {
      "text/html": [
       "<div>\n",
       "<style scoped>\n",
       "    .dataframe tbody tr th:only-of-type {\n",
       "        vertical-align: middle;\n",
       "    }\n",
       "\n",
       "    .dataframe tbody tr th {\n",
       "        vertical-align: top;\n",
       "    }\n",
       "\n",
       "    .dataframe thead th {\n",
       "        text-align: right;\n",
       "    }\n",
       "</style>\n",
       "<table border=\"1\" class=\"dataframe\">\n",
       "  <thead>\n",
       "    <tr style=\"text-align: right;\">\n",
       "      <th></th>\n",
       "      <th>0.00</th>\n",
       "      <th>0.02</th>\n",
       "      <th>0.04</th>\n",
       "      <th>0.06</th>\n",
       "      <th>0.08</th>\n",
       "      <th>0.10</th>\n",
       "    </tr>\n",
       "  </thead>\n",
       "  <tbody>\n",
       "    <tr>\n",
       "      <th>0.0</th>\n",
       "      <td>0.000</td>\n",
       "      <td>-0.010560</td>\n",
       "      <td>-0.017186</td>\n",
       "      <td>-0.020626</td>\n",
       "      <td>-0.023848</td>\n",
       "      <td>-0.025852</td>\n",
       "    </tr>\n",
       "    <tr>\n",
       "      <th>0.2</th>\n",
       "      <td>0.008</td>\n",
       "      <td>0.008160</td>\n",
       "      <td>0.003278</td>\n",
       "      <td>0.000247</td>\n",
       "      <td>-0.002247</td>\n",
       "      <td>-0.003830</td>\n",
       "    </tr>\n",
       "    <tr>\n",
       "      <th>0.4</th>\n",
       "      <td>0.064</td>\n",
       "      <td>0.064320</td>\n",
       "      <td>0.064670</td>\n",
       "      <td>0.062866</td>\n",
       "      <td>0.062557</td>\n",
       "      <td>0.062236</td>\n",
       "    </tr>\n",
       "    <tr>\n",
       "      <th>0.6</th>\n",
       "      <td>0.216</td>\n",
       "      <td>0.216480</td>\n",
       "      <td>0.216994</td>\n",
       "      <td>0.219175</td>\n",
       "      <td>0.220496</td>\n",
       "      <td>0.222168</td>\n",
       "    </tr>\n",
       "    <tr>\n",
       "      <th>0.8</th>\n",
       "      <td>0.512</td>\n",
       "      <td>0.512640</td>\n",
       "      <td>0.516899</td>\n",
       "      <td>0.520311</td>\n",
       "      <td>0.523455</td>\n",
       "      <td>0.526283</td>\n",
       "    </tr>\n",
       "    <tr>\n",
       "      <th>1.0</th>\n",
       "      <td>1.000</td>\n",
       "      <td>1.010024</td>\n",
       "      <td>1.014891</td>\n",
       "      <td>1.018281</td>\n",
       "      <td>1.021626</td>\n",
       "      <td>1.024519</td>\n",
       "    </tr>\n",
       "  </tbody>\n",
       "</table>\n",
       "</div>"
      ],
      "text/plain": [
       "      0.00      0.02      0.04      0.06      0.08      0.10\n",
       "0.0  0.000 -0.010560 -0.017186 -0.020626 -0.023848 -0.025852\n",
       "0.2  0.008  0.008160  0.003278  0.000247 -0.002247 -0.003830\n",
       "0.4  0.064  0.064320  0.064670  0.062866  0.062557  0.062236\n",
       "0.6  0.216  0.216480  0.216994  0.219175  0.220496  0.222168\n",
       "0.8  0.512  0.512640  0.516899  0.520311  0.523455  0.526283\n",
       "1.0  1.000  1.010024  1.014891  1.018281  1.021626  1.024519"
      ]
     },
     "execution_count": 7,
     "metadata": {},
     "output_type": "execute_result"
    }
   ],
   "source": [
    "solution = solve_explicit(N, M)\n",
    "table = df(data=[[solution[i * N // 5][j * M // 5] for j in range(6)] for i in range(6)], index=[i / 5 for i in range(6)], columns=[i * 0.1 / 5 for i in range(6)])\n",
    "table"
   ]
  },
  {
   "cell_type": "code",
   "execution_count": 8,
   "metadata": {},
   "outputs": [
    {
     "data": {
      "text/plain": [
       "(10, 20)"
      ]
     },
     "execution_count": 8,
     "metadata": {},
     "output_type": "execute_result"
    }
   ],
   "source": [
    "N = 10\n",
    "M = calc_m(10)\n",
    "N, M"
   ]
  },
  {
   "cell_type": "code",
   "execution_count": 9,
   "metadata": {},
   "outputs": [
    {
     "data": {
      "text/html": [
       "<div>\n",
       "<style scoped>\n",
       "    .dataframe tbody tr th:only-of-type {\n",
       "        vertical-align: middle;\n",
       "    }\n",
       "\n",
       "    .dataframe tbody tr th {\n",
       "        vertical-align: top;\n",
       "    }\n",
       "\n",
       "    .dataframe thead th {\n",
       "        text-align: right;\n",
       "    }\n",
       "</style>\n",
       "<table border=\"1\" class=\"dataframe\">\n",
       "  <thead>\n",
       "    <tr style=\"text-align: right;\">\n",
       "      <th></th>\n",
       "      <th>0.00</th>\n",
       "      <th>0.02</th>\n",
       "      <th>0.04</th>\n",
       "      <th>0.06</th>\n",
       "      <th>0.08</th>\n",
       "      <th>0.10</th>\n",
       "    </tr>\n",
       "  </thead>\n",
       "  <tbody>\n",
       "    <tr>\n",
       "      <th>0.0</th>\n",
       "      <td>0.000</td>\n",
       "      <td>-0.003122</td>\n",
       "      <td>-0.004333</td>\n",
       "      <td>-0.005120</td>\n",
       "      <td>-0.005575</td>\n",
       "      <td>-0.005694</td>\n",
       "    </tr>\n",
       "    <tr>\n",
       "      <th>0.2</th>\n",
       "      <td>0.008</td>\n",
       "      <td>0.007508</td>\n",
       "      <td>0.006659</td>\n",
       "      <td>0.006072</td>\n",
       "      <td>0.005770</td>\n",
       "      <td>0.005777</td>\n",
       "    </tr>\n",
       "    <tr>\n",
       "      <th>0.4</th>\n",
       "      <td>0.064</td>\n",
       "      <td>0.064086</td>\n",
       "      <td>0.063934</td>\n",
       "      <td>0.063842</td>\n",
       "      <td>0.063942</td>\n",
       "      <td>0.064283</td>\n",
       "    </tr>\n",
       "    <tr>\n",
       "      <th>0.6</th>\n",
       "      <td>0.216</td>\n",
       "      <td>0.216126</td>\n",
       "      <td>0.216455</td>\n",
       "      <td>0.216916</td>\n",
       "      <td>0.217500</td>\n",
       "      <td>0.218247</td>\n",
       "    </tr>\n",
       "    <tr>\n",
       "      <th>0.8</th>\n",
       "      <td>0.512</td>\n",
       "      <td>0.512486</td>\n",
       "      <td>0.513387</td>\n",
       "      <td>0.514297</td>\n",
       "      <td>0.515244</td>\n",
       "      <td>0.516289</td>\n",
       "    </tr>\n",
       "    <tr>\n",
       "      <th>1.0</th>\n",
       "      <td>1.000</td>\n",
       "      <td>1.002617</td>\n",
       "      <td>1.003765</td>\n",
       "      <td>1.004763</td>\n",
       "      <td>1.005761</td>\n",
       "      <td>1.006841</td>\n",
       "    </tr>\n",
       "  </tbody>\n",
       "</table>\n",
       "</div>"
      ],
      "text/plain": [
       "      0.00      0.02      0.04      0.06      0.08      0.10\n",
       "0.0  0.000 -0.003122 -0.004333 -0.005120 -0.005575 -0.005694\n",
       "0.2  0.008  0.007508  0.006659  0.006072  0.005770  0.005777\n",
       "0.4  0.064  0.064086  0.063934  0.063842  0.063942  0.064283\n",
       "0.6  0.216  0.216126  0.216455  0.216916  0.217500  0.218247\n",
       "0.8  0.512  0.512486  0.513387  0.514297  0.515244  0.516289\n",
       "1.0  1.000  1.002617  1.003765  1.004763  1.005761  1.006841"
      ]
     },
     "execution_count": 9,
     "metadata": {},
     "output_type": "execute_result"
    }
   ],
   "source": [
    "solution = solve_explicit(N, M)\n",
    "table = df(data=[[solution[i * N // 5][j * M // 5] for j in range(6)] for i in range(6)], index=[i / 5 for i in range(6)], columns=[i * 0.1 / 5 for i in range(6)])\n",
    "table"
   ]
  },
  {
   "cell_type": "code",
   "execution_count": 10,
   "metadata": {},
   "outputs": [
    {
     "data": {
      "text/plain": [
       "(20, 80)"
      ]
     },
     "execution_count": 10,
     "metadata": {},
     "output_type": "execute_result"
    }
   ],
   "source": [
    "N = 20\n",
    "M = calc_m(20)\n",
    "N, M"
   ]
  },
  {
   "cell_type": "code",
   "execution_count": 11,
   "metadata": {},
   "outputs": [
    {
     "data": {
      "text/html": [
       "<div>\n",
       "<style scoped>\n",
       "    .dataframe tbody tr th:only-of-type {\n",
       "        vertical-align: middle;\n",
       "    }\n",
       "\n",
       "    .dataframe tbody tr th {\n",
       "        vertical-align: top;\n",
       "    }\n",
       "\n",
       "    .dataframe thead th {\n",
       "        text-align: right;\n",
       "    }\n",
       "</style>\n",
       "<table border=\"1\" class=\"dataframe\">\n",
       "  <thead>\n",
       "    <tr style=\"text-align: right;\">\n",
       "      <th></th>\n",
       "      <th>0.00</th>\n",
       "      <th>0.02</th>\n",
       "      <th>0.04</th>\n",
       "      <th>0.06</th>\n",
       "      <th>0.08</th>\n",
       "      <th>0.10</th>\n",
       "    </tr>\n",
       "  </thead>\n",
       "  <tbody>\n",
       "    <tr>\n",
       "      <th>0.0</th>\n",
       "      <td>0.000</td>\n",
       "      <td>-0.000780</td>\n",
       "      <td>-0.001040</td>\n",
       "      <td>-0.001121</td>\n",
       "      <td>-0.001012</td>\n",
       "      <td>-0.000674</td>\n",
       "    </tr>\n",
       "    <tr>\n",
       "      <th>0.2</th>\n",
       "      <td>0.008</td>\n",
       "      <td>0.007861</td>\n",
       "      <td>0.007703</td>\n",
       "      <td>0.007675</td>\n",
       "      <td>0.007824</td>\n",
       "      <td>0.008193</td>\n",
       "    </tr>\n",
       "    <tr>\n",
       "      <th>0.4</th>\n",
       "      <td>0.064</td>\n",
       "      <td>0.064016</td>\n",
       "      <td>0.064023</td>\n",
       "      <td>0.064117</td>\n",
       "      <td>0.064366</td>\n",
       "      <td>0.064818</td>\n",
       "    </tr>\n",
       "    <tr>\n",
       "      <th>0.6</th>\n",
       "      <td>0.216</td>\n",
       "      <td>0.216042</td>\n",
       "      <td>0.216162</td>\n",
       "      <td>0.216388</td>\n",
       "      <td>0.216755</td>\n",
       "      <td>0.217308</td>\n",
       "    </tr>\n",
       "    <tr>\n",
       "      <th>0.8</th>\n",
       "      <td>0.512</td>\n",
       "      <td>0.512135</td>\n",
       "      <td>0.512395</td>\n",
       "      <td>0.512734</td>\n",
       "      <td>0.513192</td>\n",
       "      <td>0.513819</td>\n",
       "    </tr>\n",
       "    <tr>\n",
       "      <th>1.0</th>\n",
       "      <td>1.000</td>\n",
       "      <td>1.000651</td>\n",
       "      <td>1.000985</td>\n",
       "      <td>1.001351</td>\n",
       "      <td>1.001824</td>\n",
       "      <td>1.002460</td>\n",
       "    </tr>\n",
       "  </tbody>\n",
       "</table>\n",
       "</div>"
      ],
      "text/plain": [
       "      0.00      0.02      0.04      0.06      0.08      0.10\n",
       "0.0  0.000 -0.000780 -0.001040 -0.001121 -0.001012 -0.000674\n",
       "0.2  0.008  0.007861  0.007703  0.007675  0.007824  0.008193\n",
       "0.4  0.064  0.064016  0.064023  0.064117  0.064366  0.064818\n",
       "0.6  0.216  0.216042  0.216162  0.216388  0.216755  0.217308\n",
       "0.8  0.512  0.512135  0.512395  0.512734  0.513192  0.513819\n",
       "1.0  1.000  1.000651  1.000985  1.001351  1.001824  1.002460"
      ]
     },
     "execution_count": 11,
     "metadata": {},
     "output_type": "execute_result"
    }
   ],
   "source": [
    "solution = solve_explicit(N, M)\n",
    "table = df(data=[[solution[i * N // 5][j * M // 5] for j in range(6)] for i in range(6)], index=[i / 5 for i in range(6)], columns=[i * 0.1 / 5 for i in range(6)])\n",
    "table"
   ]
  },
  {
   "cell_type": "markdown",
   "metadata": {},
   "source": [
    "## Схема с весами"
   ]
  },
  {
   "cell_type": "code",
   "execution_count": 12,
   "metadata": {},
   "outputs": [],
   "source": [
    "def solve_weights(n, m):\n",
    "    h = 1/n\n",
    "    tau = 0.1/m\n",
    "    x = [i * h for i in range(n+1)]\n",
    "    u = [[0 for i in range(m+1)] for j in range(n+1)]\n",
    "    t = [i * tau for i in range(m+1)]\n",
    "    sigma = 1/2\n",
    "    \n",
    "    for i in range(n + 1):\n",
    "        u[i][0] = phi(x[i])\n",
    "        \n",
    "    def L(i, k, h):\n",
    "        return a(x[i], tau * k) * (u[i + 1][k] - 2 * u[i][k] + u[i - 1][k]) / (h ** 2) + b(x[i], tau * k) * \\\n",
    "               (u[i + 1][k] - u[i - 1][k]) / (2 * h) + c(x[i], tau * k) * u[i][k]\n",
    "\n",
    "    for k in range(1, m+1):\n",
    "        A = [0]\n",
    "        B = [-alpha1 - alpha2 / h]\n",
    "        C = [-alpha2 / h]\n",
    "        G = [alpha(t[k])]\n",
    "        for i in range(1, n):\n",
    "            A.append(sigma * a(x[i], t[k]) / (h ** 2) - sigma * b(x[i], t[k]) / (2 * h))\n",
    "            B.append(2 * sigma * a(x[i], t[k]) / (h ** 2) - sigma * c(x[i], t[k]) + 1 / tau)\n",
    "            C.append(sigma * a(x[i], t[k]) / (h ** 2) + sigma * b(x[i], t[k]) / (2 * h))\n",
    "            G.append(-u[i][k - 1] / tau - (1 - sigma) * L(i, k - 1, h) - f(x[i], t[k] - tau / 2))\n",
    "        A.append(-beta2 / h)\n",
    "        B.append(-beta1 - beta2 / h)\n",
    "        C.append(0)\n",
    "        G.append(beta(tau * k))\n",
    "        \n",
    "        S = [0] * len(A)\n",
    "        T = [0] * len(A)\n",
    "        \n",
    "        S[0] = C[0] / B[0]\n",
    "        for i in range(1, len(A)):\n",
    "            S[i] = C[i] / (B[i] - A[i] * S[i-1])\n",
    "    \n",
    "        T[0] = -G[0] / B[0]\n",
    "        for i in range(1, len(A)):\n",
    "            T[i] = (A[i] * T[i-1] - G[i]) / (B[i] - A[i] * S[i-1])\n",
    "        \n",
    "        u[len(A) - 1][k] = T[len(A) - 1]\n",
    "        for i in range(len(A) - 2, -1, -1):\n",
    "            u[i][k] = S[i] * u[i+1][k] + T[i]\n",
    "        \n",
    "    return u"
   ]
  },
  {
   "cell_type": "code",
   "execution_count": 13,
   "metadata": {},
   "outputs": [
    {
     "data": {
      "text/plain": [
       "(5, 5)"
      ]
     },
     "execution_count": 13,
     "metadata": {},
     "output_type": "execute_result"
    }
   ],
   "source": [
    "N = 5\n",
    "M = calc_m(5)\n",
    "N, M"
   ]
  },
  {
   "cell_type": "code",
   "execution_count": 14,
   "metadata": {},
   "outputs": [
    {
     "data": {
      "text/html": [
       "<div>\n",
       "<style scoped>\n",
       "    .dataframe tbody tr th:only-of-type {\n",
       "        vertical-align: middle;\n",
       "    }\n",
       "\n",
       "    .dataframe tbody tr th {\n",
       "        vertical-align: top;\n",
       "    }\n",
       "\n",
       "    .dataframe thead th {\n",
       "        text-align: right;\n",
       "    }\n",
       "</style>\n",
       "<table border=\"1\" class=\"dataframe\">\n",
       "  <thead>\n",
       "    <tr style=\"text-align: right;\">\n",
       "      <th></th>\n",
       "      <th>0.00</th>\n",
       "      <th>0.02</th>\n",
       "      <th>0.04</th>\n",
       "      <th>0.06</th>\n",
       "      <th>0.08</th>\n",
       "      <th>0.10</th>\n",
       "    </tr>\n",
       "  </thead>\n",
       "  <tbody>\n",
       "    <tr>\n",
       "      <th>0.0</th>\n",
       "      <td>0.000</td>\n",
       "      <td>-0.010560</td>\n",
       "      <td>-0.017186</td>\n",
       "      <td>-0.020626</td>\n",
       "      <td>-0.023848</td>\n",
       "      <td>-0.025852</td>\n",
       "    </tr>\n",
       "    <tr>\n",
       "      <th>0.2</th>\n",
       "      <td>0.008</td>\n",
       "      <td>0.008160</td>\n",
       "      <td>0.003278</td>\n",
       "      <td>0.000247</td>\n",
       "      <td>-0.002247</td>\n",
       "      <td>-0.003830</td>\n",
       "    </tr>\n",
       "    <tr>\n",
       "      <th>0.4</th>\n",
       "      <td>0.064</td>\n",
       "      <td>0.064320</td>\n",
       "      <td>0.064670</td>\n",
       "      <td>0.062866</td>\n",
       "      <td>0.062557</td>\n",
       "      <td>0.062236</td>\n",
       "    </tr>\n",
       "    <tr>\n",
       "      <th>0.6</th>\n",
       "      <td>0.216</td>\n",
       "      <td>0.216480</td>\n",
       "      <td>0.216994</td>\n",
       "      <td>0.219175</td>\n",
       "      <td>0.220496</td>\n",
       "      <td>0.222168</td>\n",
       "    </tr>\n",
       "    <tr>\n",
       "      <th>0.8</th>\n",
       "      <td>0.512</td>\n",
       "      <td>0.512640</td>\n",
       "      <td>0.516899</td>\n",
       "      <td>0.520311</td>\n",
       "      <td>0.523455</td>\n",
       "      <td>0.526283</td>\n",
       "    </tr>\n",
       "    <tr>\n",
       "      <th>1.0</th>\n",
       "      <td>1.000</td>\n",
       "      <td>1.010024</td>\n",
       "      <td>1.014891</td>\n",
       "      <td>1.018281</td>\n",
       "      <td>1.021626</td>\n",
       "      <td>1.024519</td>\n",
       "    </tr>\n",
       "  </tbody>\n",
       "</table>\n",
       "</div>"
      ],
      "text/plain": [
       "      0.00      0.02      0.04      0.06      0.08      0.10\n",
       "0.0  0.000 -0.010560 -0.017186 -0.020626 -0.023848 -0.025852\n",
       "0.2  0.008  0.008160  0.003278  0.000247 -0.002247 -0.003830\n",
       "0.4  0.064  0.064320  0.064670  0.062866  0.062557  0.062236\n",
       "0.6  0.216  0.216480  0.216994  0.219175  0.220496  0.222168\n",
       "0.8  0.512  0.512640  0.516899  0.520311  0.523455  0.526283\n",
       "1.0  1.000  1.010024  1.014891  1.018281  1.021626  1.024519"
      ]
     },
     "execution_count": 14,
     "metadata": {},
     "output_type": "execute_result"
    }
   ],
   "source": [
    "solution = solve_explicit(N, M)\n",
    "table = df(data=[[solution[i * N // 5][j * M // 5] for j in range(6)] for i in range(6)], index=[i / 5 for i in range(6)], columns=[i * 0.1 / 5 for i in range(6)])\n",
    "table"
   ]
  },
  {
   "cell_type": "code",
   "execution_count": 15,
   "metadata": {},
   "outputs": [
    {
     "data": {
      "text/plain": [
       "(10, 20)"
      ]
     },
     "execution_count": 15,
     "metadata": {},
     "output_type": "execute_result"
    }
   ],
   "source": [
    "N = 10\n",
    "M = calc_m(10)\n",
    "N, M"
   ]
  },
  {
   "cell_type": "code",
   "execution_count": 16,
   "metadata": {},
   "outputs": [
    {
     "data": {
      "text/html": [
       "<div>\n",
       "<style scoped>\n",
       "    .dataframe tbody tr th:only-of-type {\n",
       "        vertical-align: middle;\n",
       "    }\n",
       "\n",
       "    .dataframe tbody tr th {\n",
       "        vertical-align: top;\n",
       "    }\n",
       "\n",
       "    .dataframe thead th {\n",
       "        text-align: right;\n",
       "    }\n",
       "</style>\n",
       "<table border=\"1\" class=\"dataframe\">\n",
       "  <thead>\n",
       "    <tr style=\"text-align: right;\">\n",
       "      <th></th>\n",
       "      <th>0.00</th>\n",
       "      <th>0.02</th>\n",
       "      <th>0.04</th>\n",
       "      <th>0.06</th>\n",
       "      <th>0.08</th>\n",
       "      <th>0.10</th>\n",
       "    </tr>\n",
       "  </thead>\n",
       "  <tbody>\n",
       "    <tr>\n",
       "      <th>0.0</th>\n",
       "      <td>0.000</td>\n",
       "      <td>-0.003122</td>\n",
       "      <td>-0.004333</td>\n",
       "      <td>-0.005120</td>\n",
       "      <td>-0.005575</td>\n",
       "      <td>-0.005694</td>\n",
       "    </tr>\n",
       "    <tr>\n",
       "      <th>0.2</th>\n",
       "      <td>0.008</td>\n",
       "      <td>0.007508</td>\n",
       "      <td>0.006659</td>\n",
       "      <td>0.006072</td>\n",
       "      <td>0.005770</td>\n",
       "      <td>0.005777</td>\n",
       "    </tr>\n",
       "    <tr>\n",
       "      <th>0.4</th>\n",
       "      <td>0.064</td>\n",
       "      <td>0.064086</td>\n",
       "      <td>0.063934</td>\n",
       "      <td>0.063842</td>\n",
       "      <td>0.063942</td>\n",
       "      <td>0.064283</td>\n",
       "    </tr>\n",
       "    <tr>\n",
       "      <th>0.6</th>\n",
       "      <td>0.216</td>\n",
       "      <td>0.216126</td>\n",
       "      <td>0.216455</td>\n",
       "      <td>0.216916</td>\n",
       "      <td>0.217500</td>\n",
       "      <td>0.218247</td>\n",
       "    </tr>\n",
       "    <tr>\n",
       "      <th>0.8</th>\n",
       "      <td>0.512</td>\n",
       "      <td>0.512486</td>\n",
       "      <td>0.513387</td>\n",
       "      <td>0.514297</td>\n",
       "      <td>0.515244</td>\n",
       "      <td>0.516289</td>\n",
       "    </tr>\n",
       "    <tr>\n",
       "      <th>1.0</th>\n",
       "      <td>1.000</td>\n",
       "      <td>1.002617</td>\n",
       "      <td>1.003765</td>\n",
       "      <td>1.004763</td>\n",
       "      <td>1.005761</td>\n",
       "      <td>1.006841</td>\n",
       "    </tr>\n",
       "  </tbody>\n",
       "</table>\n",
       "</div>"
      ],
      "text/plain": [
       "      0.00      0.02      0.04      0.06      0.08      0.10\n",
       "0.0  0.000 -0.003122 -0.004333 -0.005120 -0.005575 -0.005694\n",
       "0.2  0.008  0.007508  0.006659  0.006072  0.005770  0.005777\n",
       "0.4  0.064  0.064086  0.063934  0.063842  0.063942  0.064283\n",
       "0.6  0.216  0.216126  0.216455  0.216916  0.217500  0.218247\n",
       "0.8  0.512  0.512486  0.513387  0.514297  0.515244  0.516289\n",
       "1.0  1.000  1.002617  1.003765  1.004763  1.005761  1.006841"
      ]
     },
     "execution_count": 16,
     "metadata": {},
     "output_type": "execute_result"
    }
   ],
   "source": [
    "solution = solve_explicit(N, M)\n",
    "table = df(data=[[solution[i * N // 5][j * M // 5] for j in range(6)] for i in range(6)], index=[i / 5 for i in range(6)], columns=[i * 0.1 / 5 for i in range(6)])\n",
    "table"
   ]
  },
  {
   "cell_type": "code",
   "execution_count": 17,
   "metadata": {},
   "outputs": [
    {
     "data": {
      "text/plain": [
       "(20, 80)"
      ]
     },
     "execution_count": 17,
     "metadata": {},
     "output_type": "execute_result"
    }
   ],
   "source": [
    "N = 20\n",
    "M = calc_m(20)\n",
    "N, M"
   ]
  },
  {
   "cell_type": "code",
   "execution_count": 18,
   "metadata": {},
   "outputs": [
    {
     "data": {
      "text/html": [
       "<div>\n",
       "<style scoped>\n",
       "    .dataframe tbody tr th:only-of-type {\n",
       "        vertical-align: middle;\n",
       "    }\n",
       "\n",
       "    .dataframe tbody tr th {\n",
       "        vertical-align: top;\n",
       "    }\n",
       "\n",
       "    .dataframe thead th {\n",
       "        text-align: right;\n",
       "    }\n",
       "</style>\n",
       "<table border=\"1\" class=\"dataframe\">\n",
       "  <thead>\n",
       "    <tr style=\"text-align: right;\">\n",
       "      <th></th>\n",
       "      <th>0.00</th>\n",
       "      <th>0.02</th>\n",
       "      <th>0.04</th>\n",
       "      <th>0.06</th>\n",
       "      <th>0.08</th>\n",
       "      <th>0.10</th>\n",
       "    </tr>\n",
       "  </thead>\n",
       "  <tbody>\n",
       "    <tr>\n",
       "      <th>0.0</th>\n",
       "      <td>0.000</td>\n",
       "      <td>-0.000780</td>\n",
       "      <td>-0.001040</td>\n",
       "      <td>-0.001121</td>\n",
       "      <td>-0.001012</td>\n",
       "      <td>-0.000674</td>\n",
       "    </tr>\n",
       "    <tr>\n",
       "      <th>0.2</th>\n",
       "      <td>0.008</td>\n",
       "      <td>0.007861</td>\n",
       "      <td>0.007703</td>\n",
       "      <td>0.007675</td>\n",
       "      <td>0.007824</td>\n",
       "      <td>0.008193</td>\n",
       "    </tr>\n",
       "    <tr>\n",
       "      <th>0.4</th>\n",
       "      <td>0.064</td>\n",
       "      <td>0.064016</td>\n",
       "      <td>0.064023</td>\n",
       "      <td>0.064117</td>\n",
       "      <td>0.064366</td>\n",
       "      <td>0.064818</td>\n",
       "    </tr>\n",
       "    <tr>\n",
       "      <th>0.6</th>\n",
       "      <td>0.216</td>\n",
       "      <td>0.216042</td>\n",
       "      <td>0.216162</td>\n",
       "      <td>0.216388</td>\n",
       "      <td>0.216755</td>\n",
       "      <td>0.217308</td>\n",
       "    </tr>\n",
       "    <tr>\n",
       "      <th>0.8</th>\n",
       "      <td>0.512</td>\n",
       "      <td>0.512135</td>\n",
       "      <td>0.512395</td>\n",
       "      <td>0.512734</td>\n",
       "      <td>0.513192</td>\n",
       "      <td>0.513819</td>\n",
       "    </tr>\n",
       "    <tr>\n",
       "      <th>1.0</th>\n",
       "      <td>1.000</td>\n",
       "      <td>1.000651</td>\n",
       "      <td>1.000985</td>\n",
       "      <td>1.001351</td>\n",
       "      <td>1.001824</td>\n",
       "      <td>1.002460</td>\n",
       "    </tr>\n",
       "  </tbody>\n",
       "</table>\n",
       "</div>"
      ],
      "text/plain": [
       "      0.00      0.02      0.04      0.06      0.08      0.10\n",
       "0.0  0.000 -0.000780 -0.001040 -0.001121 -0.001012 -0.000674\n",
       "0.2  0.008  0.007861  0.007703  0.007675  0.007824  0.008193\n",
       "0.4  0.064  0.064016  0.064023  0.064117  0.064366  0.064818\n",
       "0.6  0.216  0.216042  0.216162  0.216388  0.216755  0.217308\n",
       "0.8  0.512  0.512135  0.512395  0.512734  0.513192  0.513819\n",
       "1.0  1.000  1.000651  1.000985  1.001351  1.001824  1.002460"
      ]
     },
     "execution_count": 18,
     "metadata": {},
     "output_type": "execute_result"
    }
   ],
   "source": [
    "solution = solve_explicit(N, M)\n",
    "table = df(data=[[solution[i * N // 5][j * M // 5] for j in range(6)] for i in range(6)], index=[i / 5 for i in range(6)], columns=[i * 0.1 / 5 for i in range(6)])\n",
    "table"
   ]
  }
 ],
 "metadata": {
  "kernelspec": {
   "display_name": "Python 3",
   "language": "python",
   "name": "python3"
  },
  "language_info": {
   "codemirror_mode": {
    "name": "ipython",
    "version": 3
   },
   "file_extension": ".py",
   "mimetype": "text/x-python",
   "name": "python",
   "nbconvert_exporter": "python",
   "pygments_lexer": "ipython3",
   "version": "3.6.9"
  }
 },
 "nbformat": 4,
 "nbformat_minor": 4
}
